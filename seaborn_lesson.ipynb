{
 "cells": [
  {
   "cell_type": "markdown",
   "id": "bdd91fdc",
   "metadata": {},
   "source": [
    "# 📘 Seaborn Introduction"
   ]
  },
  {
   "cell_type": "markdown",
   "id": "16eced24",
   "metadata": {},
   "source": [
    "## 🔧 1. Setup and Imports"
   ]
  },
  {
   "cell_type": "code",
   "execution_count": null,
   "id": "e30b6ab2",
   "metadata": {},
   "outputs": [],
   "source": [
    "\n",
    "import seaborn as sns\n",
    "import pandas as pd\n",
    "import matplotlib.pyplot as plt\n",
    "\n",
    "# Load sample dataset\n",
    "tips = sns.load_dataset(\"tips\")\n",
    "tips.head()\n"
   ]
  },
  {
   "cell_type": "markdown",
   "id": "1089d211",
   "metadata": {},
   "source": [
    "**Explanation:**\n",
    "- The first step is to import the main libraries used for data analysis and visualization: Seaborn (for statistical graphics), Pandas (for data manipulation), and Matplotlib (for plotting).\n",
    "- The `tips` dataset is loaded using Seaborn's built-in function. This dataset contains information about restaurant tips, including bill amount, tip, gender, smoking status, day, time, and party size.\n",
    "- Displaying the first few rows with `tips.head()` helps you quickly inspect the structure, column names, and types of data available, which is essential for planning your analysis and visualizations."
   ]
  },
  {
   "cell_type": "markdown",
   "id": "7f12bbf0",
   "metadata": {},
   "source": [
    "## 📈 2A. Scatter Plot"
   ]
  },
  {
   "cell_type": "code",
   "execution_count": null,
   "id": "7fccf525",
   "metadata": {},
   "outputs": [],
   "source": [
    "\n",
    "sns.scatterplot(x=\"total_bill\", y=\"tip\", data=tips)\n",
    "plt.title(\"Total Bill vs Tip\")\n",
    "plt.show()\n"
   ]
  },
  {
   "cell_type": "markdown",
   "id": "7b2db998",
   "metadata": {},
   "source": [
    "**Explanation:**\n",
    "- This scatter plot visualizes the relationship between the total bill and the tip amount for each transaction in the dataset.\n",
    "- Each point on the plot represents a single record, showing how much was spent and how much was tipped.\n",
    "- By plotting these two variables, you can observe patterns such as whether higher bills tend to result in higher tips, and identify any outliers or clusters in the data.\n",
    "- The positive correlation seen here suggests that as the total bill increases, the tip amount generally increases as well."
   ]
  },
  {
   "cell_type": "markdown",
   "id": "acb0ae04",
   "metadata": {},
   "source": [
    "## 📈 2B. Histogram with KDE"
   ]
  },
  {
   "cell_type": "code",
   "execution_count": null,
   "id": "4d966590",
   "metadata": {},
   "outputs": [],
   "source": [
    "\n",
    "sns.histplot(tips[\"total_bill\"], kde=True, bins=20)\n",
    "plt.title(\"Distribution of Total Bill\")\n",
    "plt.show()\n"
   ]
  },
  {
   "cell_type": "markdown",
   "id": "877f7ad0",
   "metadata": {},
   "source": [
    "**Explanation:**\n",
    "- This histogram displays the distribution of the `total_bill` values in the dataset, showing how frequently different bill amounts occur.\n",
    "- The KDE (Kernel Density Estimate) curve overlays the histogram, providing a smoothed estimate of the data's probability density, which helps to visualize the underlying distribution shape.\n",
    "- Using 20 bins divides the data into intervals, making it easier to see where most bills fall and to spot any skewness or multimodal patterns.\n",
    "- This visualization is useful for understanding the typical bill size and identifying any unusual values or trends in spending."
   ]
  },
  {
   "cell_type": "markdown",
   "id": "807bb11d",
   "metadata": {},
   "source": [
    "## 📈 2C. Box Plot"
   ]
  },
  {
   "cell_type": "code",
   "execution_count": null,
   "id": "abc090a3",
   "metadata": {},
   "outputs": [],
   "source": [
    "\n",
    "sns.boxplot(x=\"day\", y=\"total_bill\", data=tips)\n",
    "plt.title(\"Total Bill by Day\")\n",
    "plt.show()\n"
   ]
  },
  {
   "cell_type": "markdown",
   "id": "18ffa04a",
   "metadata": {},
   "source": [
    "**Explanation:**\n",
    "- The box plot compares the distribution of total bill amounts for each day of the week, allowing you to see differences in spending patterns across days.\n",
    "- The box represents the interquartile range (IQR), which contains the middle 50% of the data, while the line inside the box marks the median value for each day.\n",
    "- Whiskers extend to the smallest and largest values within 1.5 times the IQR from the quartiles, helping to identify the spread and variability of the data.\n",
    "- Points outside the whiskers are considered outliers, which may indicate unusual spending behavior on certain days.\n",
    "- This plot is valuable for detecting trends, comparing groups, and spotting days with higher or lower bills."
   ]
  },
  {
   "cell_type": "markdown",
   "id": "bdc1d312",
   "metadata": {},
   "source": [
    "## 📈 2D. Violin Plot"
   ]
  },
  {
   "cell_type": "code",
   "execution_count": null,
   "id": "d3341534",
   "metadata": {},
   "outputs": [],
   "source": [
    "\n",
    "sns.violinplot(x=\"day\", y=\"total_bill\", data=tips)\n",
    "plt.title(\"Violin Plot of Total Bill by Day\")\n",
    "plt.show()\n"
   ]
  },
  {
   "cell_type": "markdown",
   "id": "2c9bdd46",
   "metadata": {},
   "source": [
    "**Explanation:**\n",
    "- The violin plot visualizes the distribution and density of total bill amounts for each day, combining features of box plots and KDE plots.\n",
    "- The width of each violin at a given value indicates the density of data points, making it easy to see where values are concentrated or sparse.\n",
    "- The central box and line show the interquartile range and median, providing summary statistics similar to a box plot.\n",
    "- This plot is especially useful for comparing both the spread and shape of the data across categories, revealing multimodal distributions or asymmetries that box plots alone might miss.\n",
    "- It helps you understand not just the range, but also the underlying patterns in the data for each day."
   ]
  },
  {
   "cell_type": "markdown",
   "id": "31ca3518",
   "metadata": {},
   "source": [
    "## 📈 2E. Bar Plot"
   ]
  },
  {
   "cell_type": "code",
   "execution_count": null,
   "id": "75def474",
   "metadata": {},
   "outputs": [],
   "source": [
    "\n",
    "sns.barplot(x=\"day\", y=\"tip\", data=tips, errorbar='sd')\n",
    "plt.title(\"Average Tip by Day\")\n",
    "plt.show()\n"
   ]
  },
  {
   "cell_type": "markdown",
   "id": "119dd0b9",
   "metadata": {},
   "source": [
    "**Explanation:**\n",
    "- This bar plot displays the average tip amount for each day of the week, helping you compare tipping behavior across different days.\n",
    "- The height of each bar represents the mean tip value for that day, providing a quick visual summary of central tendency.\n",
    "- Error bars show the standard deviation, indicating how much tip amounts vary from the average, which helps assess consistency and variability.\n",
    "- This visualization is useful for identifying days with higher or lower average tips and understanding patterns in customer generosity or service quality."
   ]
  },
  {
   "cell_type": "markdown",
   "id": "824fda96",
   "metadata": {},
   "source": [
    "## 📈 2F. Count Plot"
   ]
  },
  {
   "cell_type": "code",
   "execution_count": null,
   "id": "c6ec8666",
   "metadata": {},
   "outputs": [],
   "source": [
    "\n",
    "sns.countplot(x=\"day\", data=tips)\n",
    "plt.title(\"Number of Records per Day\")\n",
    "plt.show()\n"
   ]
  },
  {
   "cell_type": "markdown",
   "id": "57fb009d",
   "metadata": {},
   "source": [
    "**Explanation:**\n",
    "- The count plot shows the number of records (visits) for each day, making it easy to see which days are most and least frequent in the dataset.\n",
    "- Each bar's height corresponds to the count of occurrences for that day, providing a clear view of the distribution of categorical data.\n",
    "- This plot is useful for detecting imbalances, such as days with more or fewer entries, which can affect analysis and interpretation.\n",
    "- Understanding the frequency of each category helps ensure that comparisons between groups are fair and meaningful."
   ]
  },
  {
   "cell_type": "markdown",
   "id": "70806fb2",
   "metadata": {},
   "source": [
    "## 📈 2G. Pair Plot"
   ]
  },
  {
   "cell_type": "code",
   "execution_count": null,
   "id": "ef875fa8",
   "metadata": {},
   "outputs": [],
   "source": [
    "\n",
    "sns.pairplot(tips, hue=\"sex\")\n",
    "plt.suptitle(\"Pairwise Plots by Sex\", y=1.02)\n",
    "plt.show()\n"
   ]
  },
  {
   "cell_type": "markdown",
   "id": "7eb432d0",
   "metadata": {},
   "source": [
    "**Explanation:**\n",
    "- The pair plot generates scatterplots and histograms for all pairs of numerical columns in the dataset, providing a comprehensive overview of relationships between variables.\n",
    "- Coloring the points by the 'sex' column allows you to compare distributions and trends between male and female customers.\n",
    "- This visualization helps identify correlations, clusters, and outliers, as well as differences in behavior between groups.\n",
    "- Pair plots are especially valuable for exploratory data analysis, revealing patterns that may warrant further investigation or modeling."
   ]
  },
  {
   "cell_type": "markdown",
   "id": "ff9a74a3",
   "metadata": {},
   "source": [
    "## 🎨 3. Set Seaborn Theme"
   ]
  },
  {
   "cell_type": "code",
   "execution_count": null,
   "id": "70642fe7",
   "metadata": {},
   "outputs": [],
   "source": [
    "\n",
    "sns.set_theme(style=\"darkgrid\")\n"
   ]
  },
  {
   "cell_type": "markdown",
   "id": "b5d8855f",
   "metadata": {},
   "source": [
    "**Explanation:**\n",
    "- Setting the Seaborn theme to 'darkgrid' applies a consistent and visually appealing style to all plots in the notebook.\n",
    "- The 'darkgrid' theme adds grid lines and a dark background, which can improve readability and make patterns in the data stand out.\n",
    "- Using a theme ensures that your visualizations are professional and easy to interpret, especially when sharing results with others or presenting findings."
   ]
  },
  {
   "cell_type": "markdown",
   "id": "bbfd4bdb",
   "metadata": {},
   "source": [
    "## 🧩 4. Box Plot by Gender and Smoker"
   ]
  },
  {
   "cell_type": "code",
   "execution_count": null,
   "id": "9a3b4398",
   "metadata": {},
   "outputs": [],
   "source": [
    "\n",
    "sns.boxplot(x=\"sex\", y=\"tip\", hue=\"smoker\", data=tips)\n",
    "plt.title(\"Tip by Gender and Smoking Status\")\n",
    "plt.show()\n"
   ]
  },
  {
   "cell_type": "markdown",
   "id": "fff9bdac",
   "metadata": {},
   "source": [
    "**Explanation:**\n",
    "- This grouped box plot compares tip amounts across gender and smoking status, allowing you to analyze how these two categorical variables interact to affect tipping behavior.\n",
    "- Each box represents the distribution of tips for a specific gender and smoker/non-smoker group, showing median, interquartile range, and outliers.\n",
    "- By visualizing these groups together, you can detect differences in tipping patterns, such as whether smokers tip more or less than non-smokers, and whether gender influences tipping.\n",
    "- This plot is useful for uncovering complex relationships and informing further statistical analysis or business decisions."
   ]
  },
  {
   "cell_type": "markdown",
   "id": "041b55d6",
   "metadata": {},
   "source": [
    "## 🧠 Summary Table"
   ]
  },
  {
   "cell_type": "markdown",
   "id": "7820ca29",
   "metadata": {},
   "source": [
    "\n",
    "| Function         | Purpose                                       |\n",
    "|------------------|-----------------------------------------------|\n",
    "| `scatterplot`    | Relationship between two numerical variables  |\n",
    "| `histplot`       | Distribution of a single numerical variable   |\n",
    "| `boxplot`        | Summary stats and outliers by category        |\n",
    "| `violinplot`     | Distribution + density                        |\n",
    "| `barplot`        | Mean and error bars for categories            |\n",
    "| `countplot`      | Frequency counts for categories               |\n",
    "| `pairplot`       | Scatterplots for multiple variable pairs      |\n"
   ]
  }
 ],
 "metadata": {
  "kernelspec": {
   "display_name": ".venv",
   "language": "python",
   "name": "python3"
  },
  "language_info": {
   "codemirror_mode": {
    "name": "ipython",
    "version": 3
   },
   "file_extension": ".py",
   "mimetype": "text/x-python",
   "name": "python",
   "nbconvert_exporter": "python",
   "pygments_lexer": "ipython3",
   "version": "3.13.7"
  }
 },
 "nbformat": 4,
 "nbformat_minor": 5
}
