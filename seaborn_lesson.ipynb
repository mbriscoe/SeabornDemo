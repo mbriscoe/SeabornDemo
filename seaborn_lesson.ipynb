{
 "cells": [
  {
   "cell_type": "markdown",
   "id": "bdd91fdc",
   "metadata": {},
   "source": [
    "# 📘 Seaborn Introduction"
   ]
  },
  {
   "cell_type": "markdown",
   "id": "16eced24",
   "metadata": {},
   "source": [
    "## 🔧 1. Setup and Imports"
   ]
  },
  {
   "cell_type": "code",
   "execution_count": null,
   "id": "e30b6ab2",
   "metadata": {},
   "outputs": [],
   "source": [
    "\n",
    "import seaborn as sns\n",
    "import pandas as pd\n",
    "import matplotlib.pyplot as plt\n",
    "\n",
    "# Load sample dataset\n",
    "tips = sns.load_dataset(\"tips\")\n",
    "tips.head()\n"
   ]
  },
  {
   "cell_type": "markdown",
   "id": "1089d211",
   "metadata": {},
   "source": [
    "**Explanation:**\n",
    "- Imports the essential libraries: Seaborn, Pandas, and Matplotlib.\n",
    "- Loads Seaborn's built-in `tips` dataset for demonstration.\n",
    "- Displays the first few rows to show the structure of the data."
   ]
  },
  {
   "cell_type": "markdown",
   "id": "7f12bbf0",
   "metadata": {},
   "source": [
    "## 📈 2A. Scatter Plot"
   ]
  },
  {
   "cell_type": "code",
   "execution_count": null,
   "id": "7fccf525",
   "metadata": {},
   "outputs": [],
   "source": [
    "\n",
    "sns.scatterplot(x=\"total_bill\", y=\"tip\", data=tips)\n",
    "plt.title(\"Total Bill vs Tip\")\n",
    "plt.show()\n"
   ]
  },
  {
   "cell_type": "markdown",
   "id": "7b2db998",
   "metadata": {},
   "source": [
    "**Explanation:**\n",
    "- Visualizes the relationship between total bill and tip using a scatter plot.\n",
    "- Each dot represents a record from the dataset.\n",
    "- The upward trend shows a positive correlation between the two variables."
   ]
  },
  {
   "cell_type": "markdown",
   "id": "acb0ae04",
   "metadata": {},
   "source": [
    "## 📈 2B. Histogram with KDE"
   ]
  },
  {
   "cell_type": "code",
   "execution_count": null,
   "id": "4d966590",
   "metadata": {},
   "outputs": [],
   "source": [
    "\n",
    "sns.histplot(tips[\"total_bill\"], kde=True, bins=20)\n",
    "plt.title(\"Distribution of Total Bill\")\n",
    "plt.show()\n"
   ]
  },
  {
   "cell_type": "markdown",
   "id": "877f7ad0",
   "metadata": {},
   "source": [
    "**Explanation:**\n",
    "- Plots the distribution of the `total_bill` variable using a histogram.\n",
    "- Includes a KDE (Kernel Density Estimate) curve to show the data's density.\n",
    "- Uses 20 bins for better visualization of the distribution."
   ]
  },
  {
   "cell_type": "markdown",
   "id": "807bb11d",
   "metadata": {},
   "source": [
    "## 📈 2C. Box Plot"
   ]
  },
  {
   "cell_type": "code",
   "execution_count": null,
   "id": "abc090a3",
   "metadata": {},
   "outputs": [],
   "source": [
    "\n",
    "sns.boxplot(x=\"day\", y=\"total_bill\", data=tips)\n",
    "plt.title(\"Total Bill by Day\")\n",
    "plt.show()\n"
   ]
  },
  {
   "cell_type": "markdown",
   "id": "18ffa04a",
   "metadata": {},
   "source": [
    "**Explanation:**\n",
    "- Compares the distribution of total bill amounts for each day of the week using a box plot.\n",
    "- The box shows the interquartile range (IQR), which contains the middle 50% of the data.\n",
    "- The line inside the box represents the median value for each day.\n",
    "- Whiskers extend to show the range of the data, excluding outliers.\n",
    "- Dots outside the whiskers indicate potential outliers in the dataset."
   ]
  },
  {
   "cell_type": "markdown",
   "id": "bdc1d312",
   "metadata": {},
   "source": [
    "## 📈 2D. Violin Plot"
   ]
  },
  {
   "cell_type": "code",
   "execution_count": null,
   "id": "d3341534",
   "metadata": {},
   "outputs": [],
   "source": [
    "\n",
    "sns.violinplot(x=\"day\", y=\"total_bill\", data=tips)\n",
    "plt.title(\"Violin Plot of Total Bill by Day\")\n",
    "plt.show()\n"
   ]
  },
  {
   "cell_type": "markdown",
   "id": "2c9bdd46",
   "metadata": {},
   "source": [
    "**Explanation:**\n",
    "- Displays the distribution of total bill amounts for each day using a violin plot.\n",
    "- Combines aspects of box plots and KDE (Kernel Density Estimate) plots for richer visualization.\n",
    "- The width of each violin at a given value shows the density of data points at that value.\n",
    "- The central box and line indicate the interquartile range and median, similar to a box plot.\n",
    "- Useful for comparing both the spread and shape of the data across categories."
   ]
  },
  {
   "cell_type": "markdown",
   "id": "31ca3518",
   "metadata": {},
   "source": [
    "## 📈 2E. Bar Plot"
   ]
  },
  {
   "cell_type": "code",
   "execution_count": null,
   "id": "75def474",
   "metadata": {},
   "outputs": [],
   "source": [
    "\n",
    "sns.barplot(x=\"day\", y=\"tip\", data=tips, errorbar='sd')\n",
    "plt.title(\"Average Tip by Day\")\n",
    "plt.show()\n"
   ]
  },
  {
   "cell_type": "markdown",
   "id": "119dd0b9",
   "metadata": {},
   "source": [
    "**Explanation:**\n",
    "- Shows the average tip amount for each day of the week using a bar plot.\n",
    "- The height of each bar represents the mean tip value for that day.\n",
    "- Error bars indicate the standard deviation, providing a sense of variability in tips.\n",
    "- Useful for comparing average tips across different days and understanding consistency."
   ]
  },
  {
   "cell_type": "markdown",
   "id": "824fda96",
   "metadata": {},
   "source": [
    "## 📈 2F. Count Plot"
   ]
  },
  {
   "cell_type": "code",
   "execution_count": null,
   "id": "c6ec8666",
   "metadata": {},
   "outputs": [],
   "source": [
    "\n",
    "sns.countplot(x=\"day\", data=tips)\n",
    "plt.title(\"Number of Records per Day\")\n",
    "plt.show()\n"
   ]
  },
  {
   "cell_type": "markdown",
   "id": "57fb009d",
   "metadata": {},
   "source": [
    "**Explanation:**\n",
    "- Counts the number of records (visits) for each day using a count plot.\n",
    "- The height of each bar shows how many times each day appears in the dataset.\n",
    "- Useful for visualizing the frequency of categorical variables and identifying imbalances in the data."
   ]
  },
  {
   "cell_type": "markdown",
   "id": "70806fb2",
   "metadata": {},
   "source": [
    "## 📈 2G. Pair Plot"
   ]
  },
  {
   "cell_type": "code",
   "execution_count": null,
   "id": "ef875fa8",
   "metadata": {},
   "outputs": [],
   "source": [
    "\n",
    "sns.pairplot(tips, hue=\"sex\")\n",
    "plt.suptitle(\"Pairwise Plots by Sex\", y=1.02)\n",
    "plt.show()\n"
   ]
  },
  {
   "cell_type": "markdown",
   "id": "7eb432d0",
   "metadata": {},
   "source": [
    "**Explanation:**\n",
    "- Generates pairwise scatterplots and histograms for all numerical columns in the dataset.\n",
    "- Colors the points by the 'sex' column to compare distributions between genders.\n",
    "- Helps identify relationships, trends, and potential outliers across multiple variables.\n",
    "- Useful for exploratory data analysis (EDA) and understanding overall data structure."
   ]
  },
  {
   "cell_type": "markdown",
   "id": "ff9a74a3",
   "metadata": {},
   "source": [
    "## 🎨 3. Set Seaborn Theme"
   ]
  },
  {
   "cell_type": "code",
   "execution_count": null,
   "id": "70642fe7",
   "metadata": {},
   "outputs": [],
   "source": [
    "\n",
    "sns.set_theme(style=\"darkgrid\")\n"
   ]
  },
  {
   "cell_type": "markdown",
   "id": "b5d8855f",
   "metadata": {},
   "source": [
    "**Explanation:**\n",
    "- Sets the default visual theme for all Seaborn plots to 'darkgrid'.\n",
    "- Improves readability and aesthetics of charts by applying consistent styling.\n",
    "- Makes it easier to interpret data visualizations, especially in presentations and reports."
   ]
  },
  {
   "cell_type": "markdown",
   "id": "bbfd4bdb",
   "metadata": {},
   "source": [
    "## 🧩 4. Box Plot by Gender and Smoker"
   ]
  },
  {
   "cell_type": "code",
   "execution_count": null,
   "id": "9a3b4398",
   "metadata": {},
   "outputs": [],
   "source": [
    "\n",
    "sns.boxplot(x=\"sex\", y=\"tip\", hue=\"smoker\", data=tips)\n",
    "plt.title(\"Tip by Gender and Smoking Status\")\n",
    "plt.show()\n"
   ]
  },
  {
   "cell_type": "markdown",
   "id": "fff9bdac",
   "metadata": {},
   "source": [
    "**Explanation:**\n",
    "- Compares tipping behavior across gender and smoking status using a grouped box plot.\n",
    "- Each box shows the distribution of tips for a specific gender and smoker/non-smoker group.\n",
    "- Highlights differences in median, spread, and outliers between groups.\n",
    "- Useful for visualizing how multiple categorical variables affect a numerical outcome."
   ]
  },
  {
   "cell_type": "markdown",
   "id": "041b55d6",
   "metadata": {},
   "source": [
    "## 🧠 Summary Table"
   ]
  },
  {
   "cell_type": "markdown",
   "id": "7820ca29",
   "metadata": {},
   "source": [
    "\n",
    "| Function         | Purpose                                       |\n",
    "|------------------|-----------------------------------------------|\n",
    "| `scatterplot`    | Relationship between two numerical variables  |\n",
    "| `histplot`       | Distribution of a single numerical variable   |\n",
    "| `boxplot`        | Summary stats and outliers by category        |\n",
    "| `violinplot`     | Distribution + density                        |\n",
    "| `barplot`        | Mean and error bars for categories            |\n",
    "| `countplot`      | Frequency counts for categories               |\n",
    "| `pairplot`       | Scatterplots for multiple variable pairs      |\n"
   ]
  }
 ],
 "metadata": {
  "kernelspec": {
   "display_name": ".venv",
   "language": "python",
   "name": "python3"
  },
  "language_info": {
   "codemirror_mode": {
    "name": "ipython",
    "version": 3
   },
   "file_extension": ".py",
   "mimetype": "text/x-python",
   "name": "python",
   "nbconvert_exporter": "python",
   "pygments_lexer": "ipython3",
   "version": "3.13.7"
  }
 },
 "nbformat": 4,
 "nbformat_minor": 5
}
