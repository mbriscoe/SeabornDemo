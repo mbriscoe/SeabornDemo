{
 "cells": [
  {
   "cell_type": "markdown",
   "id": "bdd91fdc",
   "metadata": {},
   "source": [
    "# 📘 Seaborn Introduction"
   ]
  },
  {
   "cell_type": "markdown",
   "id": "16eced24",
   "metadata": {},
   "source": [
    "## 🔧 1. Setup and Imports"
   ]
  },
  {
   "cell_type": "code",
   "execution_count": null,
   "id": "e30b6ab2",
   "metadata": {},
   "outputs": [],
   "source": [
    "\n",
    "import seaborn as sns\n",
    "import pandas as pd\n",
    "import matplotlib.pyplot as plt\n",
    "\n",
    "# Load sample dataset\n",
    "tips = sns.load_dataset(\"tips\")\n",
    "tips.head()\n"
   ]
  },
  {
   "cell_type": "markdown",
   "id": "1089d211",
   "metadata": {},
   "source": [
    "\n",
    "This code imports the essential libraries and loads Seaborn's built-in `tips` dataset. \n",
    "It shows the first few rows to help you understand the structure of the data.\n"
   ]
  },
  {
   "cell_type": "markdown",
   "id": "7f12bbf0",
   "metadata": {},
   "source": [
    "## 📈 2A. Scatter Plot"
   ]
  },
  {
   "cell_type": "code",
   "execution_count": null,
   "id": "7fccf525",
   "metadata": {},
   "outputs": [],
   "source": [
    "\n",
    "sns.scatterplot(x=\"total_bill\", y=\"tip\", data=tips)\n",
    "plt.title(\"Total Bill vs Tip\")\n",
    "plt.show()\n"
   ]
  },
  {
   "cell_type": "markdown",
   "id": "7b2db998",
   "metadata": {},
   "source": [
    "\n",
    "This scatter plot visualizes the relationship between total bill and tip.\n",
    "Each dot is a record; the upward trend indicates a positive correlation.\n"
   ]
  },
  {
   "cell_type": "markdown",
   "id": "acb0ae04",
   "metadata": {},
   "source": [
    "## 📈 2B. Histogram with KDE"
   ]
  },
  {
   "cell_type": "code",
   "execution_count": null,
   "id": "4d966590",
   "metadata": {},
   "outputs": [],
   "source": [
    "\n",
    "sns.histplot(tips[\"total_bill\"], kde=True, bins=20)\n",
    "plt.title(\"Distribution of Total Bill\")\n",
    "plt.show()\n"
   ]
  },
  {
   "cell_type": "markdown",
   "id": "877f7ad0",
   "metadata": {},
   "source": [
    "\n",
    "This histogram shows how frequently total bills fall within certain ranges. \n",
    "The KDE line overlays a smoothed curve of the distribution.\n"
   ]
  },
  {
   "cell_type": "markdown",
   "id": "807bb11d",
   "metadata": {},
   "source": [
    "## 📈 2C. Box Plot"
   ]
  },
  {
   "cell_type": "code",
   "execution_count": null,
   "id": "abc090a3",
   "metadata": {},
   "outputs": [],
   "source": [
    "\n",
    "sns.boxplot(x=\"day\", y=\"total_bill\", data=tips)\n",
    "plt.title(\"Total Bill by Day\")\n",
    "plt.show()\n"
   ]
  },
  {
   "cell_type": "markdown",
   "id": "18ffa04a",
   "metadata": {},
   "source": [
    "\n",
    "This box plot compares total bill distributions for each day of the week.\n",
    "It shows medians, interquartile ranges, and potential outliers.\n"
   ]
  },
  {
   "cell_type": "markdown",
   "id": "bdc1d312",
   "metadata": {},
   "source": [
    "## 📈 2D. Violin Plot"
   ]
  },
  {
   "cell_type": "code",
   "execution_count": null,
   "id": "d3341534",
   "metadata": {},
   "outputs": [],
   "source": [
    "\n",
    "sns.violinplot(x=\"day\", y=\"total_bill\", data=tips)\n",
    "plt.title(\"Violin Plot of Total Bill by Day\")\n",
    "plt.show()\n"
   ]
  },
  {
   "cell_type": "markdown",
   "id": "2c9bdd46",
   "metadata": {},
   "source": [
    "\n",
    "Violin plots show the full distribution of data using KDE on each side of a box plot.\n",
    "Wider sections mean more data points are in that range.\n"
   ]
  },
  {
   "cell_type": "markdown",
   "id": "31ca3518",
   "metadata": {},
   "source": [
    "## 📈 2E. Bar Plot"
   ]
  },
  {
   "cell_type": "code",
   "execution_count": null,
   "id": "75def474",
   "metadata": {},
   "outputs": [],
   "source": [
    "\n",
    "sns.barplot(x=\"day\", y=\"tip\", data=tips, ci=\"sd\")\n",
    "plt.title(\"Average Tip by Day\")\n",
    "plt.show()\n"
   ]
  },
  {
   "cell_type": "markdown",
   "id": "119dd0b9",
   "metadata": {},
   "source": [
    "\n",
    "This bar plot shows the average tip per day with error bars representing standard deviation.\n"
   ]
  },
  {
   "cell_type": "markdown",
   "id": "824fda96",
   "metadata": {},
   "source": [
    "## 📈 2F. Count Plot"
   ]
  },
  {
   "cell_type": "code",
   "execution_count": null,
   "id": "c6ec8666",
   "metadata": {},
   "outputs": [],
   "source": [
    "\n",
    "sns.countplot(x=\"day\", data=tips)\n",
    "plt.title(\"Number of Records per Day\")\n",
    "plt.show()\n"
   ]
  },
  {
   "cell_type": "markdown",
   "id": "57fb009d",
   "metadata": {},
   "source": [
    "\n",
    "This plot counts the number of records (visits) for each day.\n"
   ]
  },
  {
   "cell_type": "markdown",
   "id": "70806fb2",
   "metadata": {},
   "source": [
    "## 📈 2G. Pair Plot"
   ]
  },
  {
   "cell_type": "code",
   "execution_count": null,
   "id": "ef875fa8",
   "metadata": {},
   "outputs": [],
   "source": [
    "\n",
    "sns.pairplot(tips, hue=\"sex\")\n",
    "plt.suptitle(\"Pairwise Plots by Sex\", y=1.02)\n",
    "plt.show()\n"
   ]
  },
  {
   "cell_type": "markdown",
   "id": "7eb432d0",
   "metadata": {},
   "source": [
    "\n",
    "This function generates pairwise scatterplots and histograms, with points colored by gender.\n",
    "Useful for exploratory data analysis (EDA).\n"
   ]
  },
  {
   "cell_type": "markdown",
   "id": "ff9a74a3",
   "metadata": {},
   "source": [
    "## 🎨 3. Set Seaborn Theme"
   ]
  },
  {
   "cell_type": "code",
   "execution_count": null,
   "id": "70642fe7",
   "metadata": {},
   "outputs": [],
   "source": [
    "\n",
    "sns.set_theme(style=\"darkgrid\")\n"
   ]
  },
  {
   "cell_type": "markdown",
   "id": "b5d8855f",
   "metadata": {},
   "source": [
    "\n",
    "Setting the theme changes the default appearance of plots for better readability.\n"
   ]
  },
  {
   "cell_type": "markdown",
   "id": "bbfd4bdb",
   "metadata": {},
   "source": [
    "## 🧩 4. Final Exercise: Box Plot by Gender and Smoker"
   ]
  },
  {
   "cell_type": "code",
   "execution_count": null,
   "id": "9a3b4398",
   "metadata": {},
   "outputs": [],
   "source": [
    "\n",
    "sns.boxplot(x=\"sex\", y=\"tip\", hue=\"smoker\", data=tips)\n",
    "plt.title(\"Tip by Gender and Smoking Status\")\n",
    "plt.show()\n"
   ]
  },
  {
   "cell_type": "markdown",
   "id": "fff9bdac",
   "metadata": {},
   "source": [
    "\n",
    "This grouped box plot allows comparison of tipping behavior across gender and smoking status.\n"
   ]
  },
  {
   "cell_type": "markdown",
   "id": "041b55d6",
   "metadata": {},
   "source": [
    "## 🧠 Summary Table"
   ]
  },
  {
   "cell_type": "markdown",
   "id": "7820ca29",
   "metadata": {},
   "source": [
    "\n",
    "| Function         | Purpose                                       |\n",
    "|------------------|-----------------------------------------------|\n",
    "| `scatterplot`    | Relationship between two numerical variables  |\n",
    "| `histplot`       | Distribution of a single numerical variable   |\n",
    "| `boxplot`        | Summary stats and outliers by category        |\n",
    "| `violinplot`     | Distribution + density                        |\n",
    "| `barplot`        | Mean and error bars for categories            |\n",
    "| `countplot`      | Frequency counts for categories               |\n",
    "| `pairplot`       | Scatterplots for multiple variable pairs      |\n"
   ]
  }
 ],
 "metadata": {
  "language_info": {
   "name": "python"
  }
 },
 "nbformat": 4,
 "nbformat_minor": 5
}
